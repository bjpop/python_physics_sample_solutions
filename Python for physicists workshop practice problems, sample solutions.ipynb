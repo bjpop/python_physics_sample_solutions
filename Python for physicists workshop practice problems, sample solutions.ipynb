{
 "cells": [
  {
   "cell_type": "markdown",
   "metadata": {},
   "source": [
    "## Question 1"
   ]
  },
  {
   "cell_type": "markdown",
   "metadata": {},
   "source": [
    "**Factorial**: Write a function to compute n!."
   ]
  },
  {
   "cell_type": "code",
   "execution_count": 1,
   "metadata": {
    "collapsed": true
   },
   "outputs": [],
   "source": [
    "# An iterative solution\n",
    "def factorial(n):\n",
    "    result = 1\n",
    "    while n > 0:\n",
    "        result *= n\n",
    "        n -= 1\n",
    "    return result"
   ]
  },
  {
   "cell_type": "code",
   "execution_count": 2,
   "metadata": {
    "collapsed": false
   },
   "outputs": [
    {
     "data": {
      "text/plain": [
       "True"
      ]
     },
     "execution_count": 2,
     "metadata": {},
     "output_type": "execute_result"
    }
   ],
   "source": [
    "factorial(0) == 1"
   ]
  },
  {
   "cell_type": "code",
   "execution_count": 3,
   "metadata": {
    "collapsed": false
   },
   "outputs": [
    {
     "data": {
      "text/plain": [
       "True"
      ]
     },
     "execution_count": 3,
     "metadata": {},
     "output_type": "execute_result"
    }
   ],
   "source": [
    "factorial(1) == 1"
   ]
  },
  {
   "cell_type": "code",
   "execution_count": 4,
   "metadata": {
    "collapsed": false
   },
   "outputs": [
    {
     "data": {
      "text/plain": [
       "True"
      ]
     },
     "execution_count": 4,
     "metadata": {},
     "output_type": "execute_result"
    }
   ],
   "source": [
    "factorial(2) == 2"
   ]
  },
  {
   "cell_type": "code",
   "execution_count": 5,
   "metadata": {
    "collapsed": false
   },
   "outputs": [
    {
     "data": {
      "text/plain": [
       "True"
      ]
     },
     "execution_count": 5,
     "metadata": {},
     "output_type": "execute_result"
    }
   ],
   "source": [
    "factorial(3) == 6"
   ]
  },
  {
   "cell_type": "code",
   "execution_count": 6,
   "metadata": {
    "collapsed": false
   },
   "outputs": [
    {
     "data": {
      "text/plain": [
       "True"
      ]
     },
     "execution_count": 6,
     "metadata": {},
     "output_type": "execute_result"
    }
   ],
   "source": [
    "factorial(4) == 24"
   ]
  },
  {
   "cell_type": "code",
   "execution_count": 7,
   "metadata": {
    "collapsed": true
   },
   "outputs": [],
   "source": [
    "# A recursive solution\n",
    "def factorial_rec(n):\n",
    "    if n <= 1:\n",
    "        return 1\n",
    "    else:\n",
    "        return n * factorial_rec(n-1)"
   ]
  },
  {
   "cell_type": "markdown",
   "metadata": {},
   "source": [
    "Test that iterative and recursive functions return the same result when applied to all integers in the range 0 to 99."
   ]
  },
  {
   "cell_type": "code",
   "execution_count": 8,
   "metadata": {
    "collapsed": false
   },
   "outputs": [
    {
     "data": {
      "text/plain": [
       "True"
      ]
     },
     "execution_count": 8,
     "metadata": {},
     "output_type": "execute_result"
    }
   ],
   "source": [
    "all([factorial(n) == factorial_rec(n) for n in range(100)])"
   ]
  },
  {
   "cell_type": "markdown",
   "metadata": {},
   "source": [
    "----"
   ]
  },
  {
   "cell_type": "markdown",
   "metadata": {},
   "source": [
    "## Question 2"
   ]
  },
  {
   "cell_type": "markdown",
   "metadata": {},
   "source": [
    "**Modulus**: Write a function to compute a mod b. Make sure you consider all the possible combinations of sign (i.e. -a mod b, a mod -b, -a mod -b and a mod b)."
   ]
  },
  {
   "cell_type": "code",
   "execution_count": 9,
   "metadata": {
    "collapsed": true
   },
   "outputs": [],
   "source": [
    "def modulus(a, b):\n",
    "    return a % b"
   ]
  },
  {
   "cell_type": "code",
   "execution_count": 10,
   "metadata": {
    "collapsed": false
   },
   "outputs": [
    {
     "data": {
      "text/plain": [
       "[(-5, 0),\n",
       " (-4, -2),\n",
       " (-3, -2),\n",
       " (-2, 0),\n",
       " (-1, 0),\n",
       " (1, 0),\n",
       " (2, 0),\n",
       " (3, 1),\n",
       " (4, 2),\n",
       " (5, 0)]"
      ]
     },
     "execution_count": 10,
     "metadata": {},
     "output_type": "execute_result"
    }
   ],
   "source": [
    "[(n, modulus(10, n)) for n in range(-5, 6) if n != 0]"
   ]
  },
  {
   "cell_type": "markdown",
   "metadata": {},
   "source": [
    "----"
   ]
  },
  {
   "cell_type": "markdown",
   "metadata": {},
   "source": [
    "## Question 3"
   ]
  },
  {
   "cell_type": "markdown",
   "metadata": {},
   "source": [
    "**List of a lists**: Make a function that takes two numbers, m and n, and returns a nested list. The inner lists will contain the letters of the alphabet up to the mth letter. There will be n of the inner list in the main list, so the output should look like:\n",
    "\n",
    "```Python\n",
    "[['a','b','c','d',...], ['a','b','c','d',...], ['a','b','c','d',...], ...]\n",
    "```"
   ]
  },
  {
   "cell_type": "code",
   "execution_count": 11,
   "metadata": {
    "collapsed": true
   },
   "outputs": [],
   "source": [
    "alphabet = \"abcdefghijklmnopqrstuvwxyz\""
   ]
  },
  {
   "cell_type": "code",
   "execution_count": 12,
   "metadata": {
    "collapsed": true
   },
   "outputs": [],
   "source": [
    "def list_of_lists(m, n):\n",
    "    # assuming m is bounded by the length of the alphabet\n",
    "    assert(m <= len(alphabet))\n",
    "    outer_list = []\n",
    "    while n > 0:\n",
    "        inner_list = []\n",
    "        index_inner = 0\n",
    "        while index_inner < m:\n",
    "            inner_list.append(alphabet[index_inner])\n",
    "            index_inner += 1\n",
    "        outer_list.append(inner_list)\n",
    "        n -= 1\n",
    "    return outer_list"
   ]
  },
  {
   "cell_type": "code",
   "execution_count": 13,
   "metadata": {
    "collapsed": false
   },
   "outputs": [
    {
     "data": {
      "text/plain": [
       "[['a', 'b', 'c'], ['a', 'b', 'c'], ['a', 'b', 'c'], ['a', 'b', 'c']]"
      ]
     },
     "execution_count": 13,
     "metadata": {},
     "output_type": "execute_result"
    }
   ],
   "source": [
    "list_of_lists(3, 4)"
   ]
  },
  {
   "cell_type": "code",
   "execution_count": 14,
   "metadata": {
    "collapsed": false
   },
   "outputs": [
    {
     "data": {
      "text/plain": [
       "[]"
      ]
     },
     "execution_count": 14,
     "metadata": {},
     "output_type": "execute_result"
    }
   ],
   "source": [
    "list_of_lists(0, 0)"
   ]
  },
  {
   "cell_type": "code",
   "execution_count": 15,
   "metadata": {
    "collapsed": false
   },
   "outputs": [
    {
     "data": {
      "text/plain": [
       "1"
      ]
     },
     "execution_count": 15,
     "metadata": {},
     "output_type": "execute_result"
    }
   ],
   "source": [
    "10 % 3"
   ]
  },
  {
   "cell_type": "code",
   "execution_count": 16,
   "metadata": {
    "collapsed": false
   },
   "outputs": [
    {
     "data": {
      "text/plain": [
       "[['a',\n",
       "  'b',\n",
       "  'c',\n",
       "  'd',\n",
       "  'e',\n",
       "  'f',\n",
       "  'g',\n",
       "  'h',\n",
       "  'i',\n",
       "  'j',\n",
       "  'k',\n",
       "  'l',\n",
       "  'm',\n",
       "  'n',\n",
       "  'o',\n",
       "  'p',\n",
       "  'q',\n",
       "  'r',\n",
       "  's',\n",
       "  't',\n",
       "  'u',\n",
       "  'v',\n",
       "  'w',\n",
       "  'x',\n",
       "  'y',\n",
       "  'z']]"
      ]
     },
     "execution_count": 16,
     "metadata": {},
     "output_type": "execute_result"
    }
   ],
   "source": [
    "list_of_lists(26, 1)"
   ]
  },
  {
   "cell_type": "code",
   "execution_count": 17,
   "metadata": {
    "collapsed": false
   },
   "outputs": [
    {
     "ename": "AssertionError",
     "evalue": "",
     "output_type": "error",
     "traceback": [
      "\u001b[0;31m---------------------------------------------------------------------------\u001b[0m",
      "\u001b[0;31mAssertionError\u001b[0m                            Traceback (most recent call last)",
      "\u001b[0;32m<ipython-input-17-8bab399f5182>\u001b[0m in \u001b[0;36m<module>\u001b[0;34m()\u001b[0m\n\u001b[0;32m----> 1\u001b[0;31m \u001b[0mlist_of_lists\u001b[0m\u001b[0;34m(\u001b[0m\u001b[0;36m27\u001b[0m\u001b[0;34m,\u001b[0m \u001b[0;36m1\u001b[0m\u001b[0;34m)\u001b[0m\u001b[0;34m\u001b[0m\u001b[0m\n\u001b[0m",
      "\u001b[0;32m<ipython-input-12-047c684366a2>\u001b[0m in \u001b[0;36mlist_of_lists\u001b[0;34m(m, n)\u001b[0m\n\u001b[1;32m      1\u001b[0m \u001b[0;32mdef\u001b[0m \u001b[0mlist_of_lists\u001b[0m\u001b[0;34m(\u001b[0m\u001b[0mm\u001b[0m\u001b[0;34m,\u001b[0m \u001b[0mn\u001b[0m\u001b[0;34m)\u001b[0m\u001b[0;34m:\u001b[0m\u001b[0;34m\u001b[0m\u001b[0m\n\u001b[1;32m      2\u001b[0m     \u001b[0;31m# assuming m is bounded by the length of the alphabet\u001b[0m\u001b[0;34m\u001b[0m\u001b[0;34m\u001b[0m\u001b[0m\n\u001b[0;32m----> 3\u001b[0;31m     \u001b[0;32massert\u001b[0m\u001b[0;34m(\u001b[0m\u001b[0mm\u001b[0m \u001b[0;34m<=\u001b[0m \u001b[0mlen\u001b[0m\u001b[0;34m(\u001b[0m\u001b[0malphabet\u001b[0m\u001b[0;34m)\u001b[0m\u001b[0;34m)\u001b[0m\u001b[0;34m\u001b[0m\u001b[0m\n\u001b[0m\u001b[1;32m      4\u001b[0m     \u001b[0mouter_list\u001b[0m \u001b[0;34m=\u001b[0m \u001b[0;34m[\u001b[0m\u001b[0;34m]\u001b[0m\u001b[0;34m\u001b[0m\u001b[0m\n\u001b[1;32m      5\u001b[0m     \u001b[0;32mwhile\u001b[0m \u001b[0mn\u001b[0m \u001b[0;34m>\u001b[0m \u001b[0;36m0\u001b[0m\u001b[0;34m:\u001b[0m\u001b[0;34m\u001b[0m\u001b[0m\n",
      "\u001b[0;31mAssertionError\u001b[0m: "
     ]
    }
   ],
   "source": [
    "list_of_lists(27, 1)"
   ]
  },
  {
   "cell_type": "code",
   "execution_count": 18,
   "metadata": {
    "collapsed": true
   },
   "outputs": [],
   "source": [
    "# Using a list comprehension\n",
    "def list_of_lists_comp(m, n):\n",
    "    assert(m <= len(alphabet))\n",
    "    return [[alphabet[i] for i in range(m)] for _count in range(n)]"
   ]
  },
  {
   "cell_type": "code",
   "execution_count": 19,
   "metadata": {
    "collapsed": false
   },
   "outputs": [
    {
     "data": {
      "text/plain": [
       "[['a', 'b', 'c'], ['a', 'b', 'c'], ['a', 'b', 'c'], ['a', 'b', 'c']]"
      ]
     },
     "execution_count": 19,
     "metadata": {},
     "output_type": "execute_result"
    }
   ],
   "source": [
    "list_of_lists_comp(3, 4)"
   ]
  },
  {
   "cell_type": "code",
   "execution_count": 20,
   "metadata": {
    "collapsed": false
   },
   "outputs": [
    {
     "data": {
      "text/plain": [
       "[]"
      ]
     },
     "execution_count": 20,
     "metadata": {},
     "output_type": "execute_result"
    }
   ],
   "source": [
    "list_of_lists_comp(0, 0)"
   ]
  },
  {
   "cell_type": "code",
   "execution_count": 21,
   "metadata": {
    "collapsed": false
   },
   "outputs": [
    {
     "ename": "AssertionError",
     "evalue": "",
     "output_type": "error",
     "traceback": [
      "\u001b[0;31m---------------------------------------------------------------------------\u001b[0m",
      "\u001b[0;31mAssertionError\u001b[0m                            Traceback (most recent call last)",
      "\u001b[0;32m<ipython-input-21-b5165c607adf>\u001b[0m in \u001b[0;36m<module>\u001b[0;34m()\u001b[0m\n\u001b[0;32m----> 1\u001b[0;31m \u001b[0mlist_of_lists_comp\u001b[0m\u001b[0;34m(\u001b[0m\u001b[0;36m27\u001b[0m\u001b[0;34m,\u001b[0m \u001b[0;36m1\u001b[0m\u001b[0;34m)\u001b[0m\u001b[0;34m\u001b[0m\u001b[0m\n\u001b[0m",
      "\u001b[0;32m<ipython-input-18-9f4000cc81d4>\u001b[0m in \u001b[0;36mlist_of_lists_comp\u001b[0;34m(m, n)\u001b[0m\n\u001b[1;32m      1\u001b[0m \u001b[0;31m# Using a list comprehension\u001b[0m\u001b[0;34m\u001b[0m\u001b[0;34m\u001b[0m\u001b[0m\n\u001b[1;32m      2\u001b[0m \u001b[0;32mdef\u001b[0m \u001b[0mlist_of_lists_comp\u001b[0m\u001b[0;34m(\u001b[0m\u001b[0mm\u001b[0m\u001b[0;34m,\u001b[0m \u001b[0mn\u001b[0m\u001b[0;34m)\u001b[0m\u001b[0;34m:\u001b[0m\u001b[0;34m\u001b[0m\u001b[0m\n\u001b[0;32m----> 3\u001b[0;31m     \u001b[0;32massert\u001b[0m\u001b[0;34m(\u001b[0m\u001b[0mm\u001b[0m \u001b[0;34m<=\u001b[0m \u001b[0mlen\u001b[0m\u001b[0;34m(\u001b[0m\u001b[0malphabet\u001b[0m\u001b[0;34m)\u001b[0m\u001b[0;34m)\u001b[0m\u001b[0;34m\u001b[0m\u001b[0m\n\u001b[0m\u001b[1;32m      4\u001b[0m     \u001b[0;32mreturn\u001b[0m \u001b[0;34m[\u001b[0m\u001b[0;34m[\u001b[0m\u001b[0malphabet\u001b[0m\u001b[0;34m[\u001b[0m\u001b[0mi\u001b[0m\u001b[0;34m]\u001b[0m \u001b[0;32mfor\u001b[0m \u001b[0mi\u001b[0m \u001b[0;32min\u001b[0m \u001b[0mrange\u001b[0m\u001b[0;34m(\u001b[0m\u001b[0mm\u001b[0m\u001b[0;34m)\u001b[0m\u001b[0;34m]\u001b[0m \u001b[0;32mfor\u001b[0m \u001b[0m_count\u001b[0m \u001b[0;32min\u001b[0m \u001b[0mrange\u001b[0m\u001b[0;34m(\u001b[0m\u001b[0mn\u001b[0m\u001b[0;34m)\u001b[0m\u001b[0;34m]\u001b[0m\u001b[0;34m\u001b[0m\u001b[0m\n",
      "\u001b[0;31mAssertionError\u001b[0m: "
     ]
    }
   ],
   "source": [
    "list_of_lists_comp(27, 1)"
   ]
  },
  {
   "cell_type": "markdown",
   "metadata": {},
   "source": [
    "----"
   ]
  },
  {
   "cell_type": "markdown",
   "metadata": {},
   "source": [
    "## Question 4"
   ]
  },
  {
   "cell_type": "markdown",
   "metadata": {},
   "source": [
    "**Lists of list**: Write a function that takes two numbers, m and n, and returns a nested list. The inner lists will contain a letter of the alphabet. There will be n inner lists in the main list, with each successive list incrementing through the alphabet to the nth letter, so the output should look like:\n",
    "\n",
    "```Python\n",
    "[['a','a','a','a',...], ['b','b','b','b',...], ['c','c','c','c',...], ['d','d','d','d',...], ...]\n",
    "```\n",
    "\n",
    "A slight modification of problem 3 should yield this. "
   ]
  },
  {
   "cell_type": "code",
   "execution_count": 22,
   "metadata": {
    "collapsed": true
   },
   "outputs": [],
   "source": [
    "# Using a list comprehension\n",
    "def lists_of_list(m, n):\n",
    "    assert(n <= len(alphabet))\n",
    "    return [[alphabet[i]] * m for i in range(n)]"
   ]
  },
  {
   "cell_type": "code",
   "execution_count": 23,
   "metadata": {
    "collapsed": false
   },
   "outputs": [
    {
     "data": {
      "text/plain": [
       "[['a', 'a', 'a', 'a'],\n",
       " ['b', 'b', 'b', 'b'],\n",
       " ['c', 'c', 'c', 'c'],\n",
       " ['d', 'd', 'd', 'd'],\n",
       " ['e', 'e', 'e', 'e']]"
      ]
     },
     "execution_count": 23,
     "metadata": {},
     "output_type": "execute_result"
    }
   ],
   "source": [
    "lists_of_list(4, 5)"
   ]
  },
  {
   "cell_type": "markdown",
   "metadata": {},
   "source": [
    "----"
   ]
  },
  {
   "cell_type": "markdown",
   "metadata": {},
   "source": [
    "## Question 5"
   ]
  },
  {
   "cell_type": "markdown",
   "metadata": {},
   "source": [
    "**Lists from tuples**: Take a list of tuples, and return a list of two lists, with the first list containing the first entry in the tuples, the second list containing the second entry in the tuples. \n",
    "The input should look like:\n",
    "```\n",
    "[('a',1),('b',2),('c',3),...]\n",
    "```\n",
    "(or whatever you want your tuples to contain).\n",
    "The output should look like:\n",
    "```\n",
    "[['a','b','c',...], [1,2,3,...]]\n",
    "```"
   ]
  },
  {
   "cell_type": "code",
   "execution_count": 24,
   "metadata": {
    "collapsed": true
   },
   "outputs": [],
   "source": [
    "def lists_from_tuples(tuples):\n",
    "    firsts = []\n",
    "    seconds = []\n",
    "    for item1, item2 in tuples:\n",
    "        firsts.append(item1)\n",
    "        seconds.append(item2)\n",
    "    return [firsts, seconds]"
   ]
  },
  {
   "cell_type": "code",
   "execution_count": 25,
   "metadata": {
    "collapsed": false
   },
   "outputs": [
    {
     "data": {
      "text/plain": [
       "[['a', 'b', 'c'], [1, 2, 3]]"
      ]
     },
     "execution_count": 25,
     "metadata": {},
     "output_type": "execute_result"
    }
   ],
   "source": [
    "lists_from_tuples([('a',1),('b',2),('c',3)])"
   ]
  },
  {
   "cell_type": "code",
   "execution_count": 26,
   "metadata": {
    "collapsed": false
   },
   "outputs": [
    {
     "data": {
      "text/plain": [
       "[[], []]"
      ]
     },
     "execution_count": 26,
     "metadata": {},
     "output_type": "execute_result"
    }
   ],
   "source": [
    "lists_from_tuples([])"
   ]
  },
  {
   "cell_type": "markdown",
   "metadata": {},
   "source": [
    "----"
   ]
  },
  {
   "cell_type": "markdown",
   "metadata": {},
   "source": [
    "## Question 6"
   ]
  },
  {
   "cell_type": "markdown",
   "metadata": {},
   "source": [
    "**Tuples to dictionary**: Take a list of tuples, and return a dictionary with the dictionary key being the first entry in the tuples, and the dictionary entries being a a list of the second entry in the tuples where the first entry was the key.\n",
    "\n",
    "The input should look like:\n",
    "```\n",
    "[('a',1),('b',2),('c',3),('c',3),('a',4),('c',10),('b',1),... ]\n",
    "```\n",
    "(or whatever you want your tuples to contain, but it'll be boring if you don't have duplicate first entries in the tuples!)\n",
    "\n",
    "The output should look like:\n",
    "```\n",
    "{ 'a':[1,4], 'b':[2,1], 'c':[3,3,10] }\n",
    "```\n",
    "Bonus: Can you modify your code so that the lists in each dictionary entry are sorted from smallest to largest value?"
   ]
  },
  {
   "cell_type": "code",
   "execution_count": 27,
   "metadata": {
    "collapsed": true
   },
   "outputs": [],
   "source": [
    "def tuples_to_dictionary(tuples):\n",
    "    result = {}\n",
    "    for item1, item2 in tuples:\n",
    "        if item1 in result:\n",
    "            result[item1].append(item2)\n",
    "        else:\n",
    "            result[item1] = [item2]\n",
    "    # sort the lists for each key\n",
    "    for key in result:\n",
    "        result[key].sort()\n",
    "    return result"
   ]
  },
  {
   "cell_type": "code",
   "execution_count": 28,
   "metadata": {
    "collapsed": false
   },
   "outputs": [
    {
     "data": {
      "text/plain": [
       "{'a': [1, 4], 'b': [1, 2], 'c': [3, 3, 10]}"
      ]
     },
     "execution_count": 28,
     "metadata": {},
     "output_type": "execute_result"
    }
   ],
   "source": [
    "tuples_to_dictionary([('a',1),('b',2),('c',3),('c',3),('a',4),('c',10),('b',1)])"
   ]
  },
  {
   "cell_type": "code",
   "execution_count": 29,
   "metadata": {
    "collapsed": false
   },
   "outputs": [
    {
     "data": {
      "text/plain": [
       "{}"
      ]
     },
     "execution_count": 29,
     "metadata": {},
     "output_type": "execute_result"
    }
   ],
   "source": [
    "tuples_to_dictionary([])"
   ]
  },
  {
   "cell_type": "markdown",
   "metadata": {},
   "source": [
    "----"
   ]
  },
  {
   "cell_type": "markdown",
   "metadata": {},
   "source": [
    "## Question 7"
   ]
  },
  {
   "cell_type": "markdown",
   "metadata": {},
   "source": [
    "**Sort tuples**: Write a function to take a list of tuples, and return a list of the same tups, sorted by the first tuple entry.\n",
    "\n",
    "The input should look like:\n",
    "\n",
    "```Python\n",
    "[ ('a',1),('b',2),('c',3),('c',13),('a',4),('c',10),('b',1),... ]\n",
    "```\n",
    "\n",
    "(or whatever you want your tuples to contain, but it'll be boring if you don't have duplicate first entries in the tuples!)\n",
    "\n",
    "The output should look like:\n",
    "\n",
    "```Python\n",
    "[('a',1), ('a',4), ('b',2), ('b',1), ('c',3), ('c',13), ('c',10),... ]\n",
    "```\n",
    "\n",
    "Now modify your code to sort by the first tuple entry, then by the second entry so your output looks like:\n",
    "\n",
    "```\n",
    "[ ('a',1), ('a',4), ('b',1), ('b',2), ('c',3), ('c',10), ('c',13),... ] \n",
    "```"
   ]
  },
  {
   "cell_type": "code",
   "execution_count": 30,
   "metadata": {
    "collapsed": true
   },
   "outputs": [],
   "source": [
    "def sort_tuples(tuples):\n",
    "    return sorted(tuples)"
   ]
  },
  {
   "cell_type": "code",
   "execution_count": 31,
   "metadata": {
    "collapsed": false
   },
   "outputs": [
    {
     "data": {
      "text/plain": [
       "[('a', 1), ('a', 4), ('b', 1), ('b', 2), ('c', 3), ('c', 10), ('c', 13)]"
      ]
     },
     "execution_count": 31,
     "metadata": {},
     "output_type": "execute_result"
    }
   ],
   "source": [
    "sort_tuples([('a',1),('b',2),('c',3),('c',13),('a',4),('c',10),('b',1)])"
   ]
  },
  {
   "cell_type": "markdown",
   "metadata": {},
   "source": [
    "----"
   ]
  },
  {
   "cell_type": "markdown",
   "metadata": {},
   "source": [
    "## Question 8"
   ]
  },
  {
   "cell_type": "markdown",
   "metadata": {},
   "source": [
    "**Remove empty tuples**: Write a function to take a list of tuples and remove any empty tuples. Hint: Remember that empty things like [], (), {} evaluate to False if treated a as boolean.\n",
    "\n",
    "The input should look like:\n",
    "\n",
    "```\n",
    "[ ('f', 3), ('e', 9), ('j', 5), (), ('d', 1), ('g', 2), () ]\n",
    "```\n",
    "\n",
    "The output should look like:\n",
    "\n",
    "```\n",
    "[('f', 3), ('e', 9), ('j', 5), ('d', 1), ('g', 2)]\n",
    "```\n"
   ]
  },
  {
   "cell_type": "code",
   "execution_count": 32,
   "metadata": {
    "collapsed": true
   },
   "outputs": [],
   "source": [
    "# Solution using a for loop\n",
    "def remove_empty_tuples(tuples):\n",
    "    result = []\n",
    "    for this_tuple in tuples:\n",
    "        if this_tuple is not ():\n",
    "            result.append(this_tuple)\n",
    "    return result"
   ]
  },
  {
   "cell_type": "code",
   "execution_count": 33,
   "metadata": {
    "collapsed": false
   },
   "outputs": [
    {
     "data": {
      "text/plain": [
       "[('f', 3), ('e', 9), ('j', 5), ('d', 1), ('g', 2)]"
      ]
     },
     "execution_count": 33,
     "metadata": {},
     "output_type": "execute_result"
    }
   ],
   "source": [
    "remove_empty_tuples([ ('f', 3), ('e', 9), ('j', 5), (), ('d', 1), ('g', 2), () ])"
   ]
  },
  {
   "cell_type": "code",
   "execution_count": 34,
   "metadata": {
    "collapsed": true
   },
   "outputs": [],
   "source": [
    "# using a list comprehension\n",
    "def remove_empty_tuples_comp(tuples):\n",
    "    return [this_tuple for this_tuple in tuples if this_tuple is not ()]"
   ]
  },
  {
   "cell_type": "code",
   "execution_count": 35,
   "metadata": {
    "collapsed": false
   },
   "outputs": [
    {
     "data": {
      "text/plain": [
       "[('f', 3), ('e', 9), ('j', 5), ('d', 1), ('g', 2)]"
      ]
     },
     "execution_count": 35,
     "metadata": {},
     "output_type": "execute_result"
    }
   ],
   "source": [
    "remove_empty_tuples_comp([ ('f', 3), ('e', 9), ('j', 5), (), ('d', 1), ('g', 2), ()])"
   ]
  },
  {
   "cell_type": "code",
   "execution_count": 36,
   "metadata": {
    "collapsed": true
   },
   "outputs": [],
   "source": [
    "# using the built in filter function\n",
    "def remove_empty_tuples_filter(tuples):\n",
    "    return filter(lambda t: t is not (), tuples)"
   ]
  },
  {
   "cell_type": "code",
   "execution_count": 37,
   "metadata": {
    "collapsed": false
   },
   "outputs": [
    {
     "data": {
      "text/plain": [
       "[('f', 3), ('e', 9), ('j', 5), ('d', 1), ('g', 2)]"
      ]
     },
     "execution_count": 37,
     "metadata": {},
     "output_type": "execute_result"
    }
   ],
   "source": [
    "remove_empty_tuples_filter([('f', 3), ('e', 9), ('j', 5), (), ('d', 1), ('g', 2), ()])"
   ]
  },
  {
   "cell_type": "markdown",
   "metadata": {},
   "source": [
    "----"
   ]
  },
  {
   "cell_type": "markdown",
   "metadata": {},
   "source": [
    "## Question 9"
   ]
  },
  {
   "cell_type": "markdown",
   "metadata": {},
   "source": [
    "**Sum array**: Write a function to sum from x0, with x1 steps of size xi, keeping the result for each successive step. Return the initial value, followed by the x1 results in a numpy array. For example for x0=5, x1=10, xi=1.5 the result would be either as a numpy array:\n",
    "\n",
    "```\n",
    "numpy.array([5.0, 6.5, 8.0, 9.5, 11.0, 12.5, 14.0, 15.5, 17.0, 18.5, 20.0])\n",
    "```\n",
    "\n",
    "or as a list:\n",
    "\n",
    "```\n",
    "[5.0, 6.5, 8.0, 9.5, 11.0, 12.5, 14.0, 15.5, 17.0, 18.5, 20.0]\n",
    "```\n",
    "\n",
    "(note the first entry in the array is the initial value x0)\n"
   ]
  },
  {
   "cell_type": "code",
   "execution_count": 38,
   "metadata": {
    "collapsed": true
   },
   "outputs": [],
   "source": [
    "# solution using lists\n",
    "def sum_array(start, steps, step_size):\n",
    "    result = [start]\n",
    "    current = start\n",
    "    for _count in range(steps):\n",
    "        current += step_size\n",
    "        result.append(current)\n",
    "    return result"
   ]
  },
  {
   "cell_type": "code",
   "execution_count": 39,
   "metadata": {
    "collapsed": false
   },
   "outputs": [
    {
     "data": {
      "text/plain": [
       "[5.0, 6.5, 8.0, 9.5, 11.0, 12.5, 14.0, 15.5, 17.0, 18.5, 20.0]"
      ]
     },
     "execution_count": 39,
     "metadata": {},
     "output_type": "execute_result"
    }
   ],
   "source": [
    "sum_array(5.0, 10, 1.5)"
   ]
  },
  {
   "cell_type": "code",
   "execution_count": 40,
   "metadata": {
    "collapsed": false
   },
   "outputs": [],
   "source": [
    "import numpy as np\n",
    "# solution using range for numpy arrays\n",
    "def sum_array_arange(start, steps, step_size):\n",
    "    return np.arange(start, start + (steps + 1) * step_size, step_size)"
   ]
  },
  {
   "cell_type": "code",
   "execution_count": 41,
   "metadata": {
    "collapsed": false
   },
   "outputs": [
    {
     "data": {
      "text/plain": [
       "array([  5. ,   6.5,   8. ,   9.5,  11. ,  12.5,  14. ,  15.5,  17. ,\n",
       "        18.5,  20. ])"
      ]
     },
     "execution_count": 41,
     "metadata": {},
     "output_type": "execute_result"
    }
   ],
   "source": [
    "sum_array_arange(5.0, 10, 1.5)"
   ]
  },
  {
   "cell_type": "markdown",
   "metadata": {
    "collapsed": true
   },
   "source": [
    "----"
   ]
  },
  {
   "cell_type": "markdown",
   "metadata": {},
   "source": [
    "## Question 10"
   ]
  },
  {
   "cell_type": "markdown",
   "metadata": {},
   "source": [
    "**Plot x^n**: Write a function which uses the module matplotlib.pyplot to plot x against x^n with m points in the range (xmin,xmax), for input values of xmin, xmax, n and m. Hint: Matplotlib has a very useful website - check it out if you're stuck. You may also like to try adding axis labels and playing with the linewidth and line color properties… "
   ]
  },
  {
   "cell_type": "code",
   "execution_count": 42,
   "metadata": {
    "collapsed": true
   },
   "outputs": [],
   "source": [
    "%matplotlib inline"
   ]
  },
  {
   "cell_type": "code",
   "execution_count": 43,
   "metadata": {
    "collapsed": true
   },
   "outputs": [],
   "source": [
    "import matplotlib.pyplot as plt"
   ]
  },
  {
   "cell_type": "code",
   "execution_count": 44,
   "metadata": {
    "collapsed": false
   },
   "outputs": [],
   "source": [
    "def plot_power(power, num_points, xmin, xmax):\n",
    "    # 100 linearly spaced numbers\n",
    "    x = np.linspace(xmin, xmax, num_points)\n",
    "    y = np.power(x, power)\n",
    "    plt.plot(x, y)"
   ]
  },
  {
   "cell_type": "code",
   "execution_count": 45,
   "metadata": {
    "collapsed": false
   },
   "outputs": [
    {
     "data": {
      "image/png": "[encoded data removed]",
      "text/plain": [
       "<matplotlib.figure.Figure at 0x109982610>"
      ]
     },
     "metadata": {},
     "output_type": "display_data"
    }
   ],
   "source": [
    "plot_power(2, 100, -100, 100)"
   ]
  },
  {
   "cell_type": "code",
   "execution_count": 46,
   "metadata": {
    "collapsed": false
   },
   "outputs": [
    {
     "data": {
      "image/png": "[encoded data removed]",
      "text/plain": [
       "<matplotlib.figure.Figure at 0x10af30810>"
      ]
     },
     "metadata": {},
     "output_type": "display_data"
    }
   ],
   "source": [
    "plot_power(3, 100, -100, 100)"
   ]
  },
  {
   "cell_type": "markdown",
   "metadata": {
    "collapsed": true
   },
   "source": [
    "----"
   ]
  },
  {
   "cell_type": "markdown",
   "metadata": {},
   "source": [
    "## Question 11"
   ]
  },
  {
   "cell_type": "markdown",
   "metadata": {},
   "source": [
    "**Make a 4x4 plot, with the panels showing x^1, x^2, x^3, and x^4**: Write a function to produce a 4x4 set of axes, with x^1, x^2, x^3, and x^4 plotted on them respectively, with m data points in the range (xmin,xmax). The function will take as input values xmin, xmax and m."
   ]
  },
  {
   "cell_type": "code",
   "execution_count": 47,
   "metadata": {
    "collapsed": true
   },
   "outputs": [],
   "source": [
    "def subplots(num_points, xmin, xmax):\n",
    "    f, ((ax1, ax2), (ax3, ax4)) = plt.subplots(2, 2, sharex='col', sharey='row')\n",
    "    x = np.linspace(xmin, xmax, num_points)\n",
    "    y1 = np.power(x, 1)\n",
    "    y2 = np.power(x, 2)\n",
    "    y3 = np.power(x, 3)\n",
    "    y4 = np.power(x, 4)\n",
    "    ax1.plot(x, y1)\n",
    "    ax2.plot(x, y2)\n",
    "    ax3.plot(x, y3)\n",
    "    ax4.plot(x, y4)"
   ]
  },
  {
   "cell_type": "code",
   "execution_count": 48,
   "metadata": {
    "collapsed": false
   },
   "outputs": [
    {
     "data": {
      "image/png": "[encoded data removed]",
      "text/plain": [
       "<matplotlib.figure.Figure at 0x10aeac350>"
      ]
     },
     "metadata": {},
     "output_type": "display_data"
    }
   ],
   "source": [
    "subplots(100, -10, 10)"
   ]
  },
  {
   "cell_type": "markdown",
   "metadata": {},
   "source": [
    "----"
   ]
  },
  {
   "cell_type": "markdown",
   "metadata": {},
   "source": [
    "## Question 12"
   ]
  },
  {
   "cell_type": "markdown",
   "metadata": {},
   "source": [
    "**Scatter plot a cloud of random points**: Write a function which uses the module `matplotlib.pyplot` to plot and the random module to plot a scatterplot or random points. To learn how to use matplotlib to do this, Google it! You will probably want to use the function `random.randrange(start, stop[, step])` or `random.random()` to make the random numbers. Numpy also has a random module, which would be fine to use."
   ]
  },
  {
   "cell_type": "code",
   "execution_count": 49,
   "metadata": {
    "collapsed": true
   },
   "outputs": [],
   "source": [
    "import numpy.random as rand\n",
    "\n",
    "def scatter_randoms(low, high, number_samples):\n",
    "    random_xs = rand.random_integers(low, high, number_samples)\n",
    "    random_ys = rand.random_integers(low, high, number_samples)\n",
    "    plt.scatter(random_xs, random_ys)"
   ]
  },
  {
   "cell_type": "code",
   "execution_count": 50,
   "metadata": {
    "collapsed": false
   },
   "outputs": [
    {
     "data": {
      "image/png": "[encoded data removed]",
      "text/plain": [
       "<matplotlib.figure.Figure at 0x10b2f6a10>"
      ]
     },
     "metadata": {},
     "output_type": "display_data"
    }
   ],
   "source": [
    "scatter_randoms(low=-100, high=100, number_samples=50)"
   ]
  },
  {
   "cell_type": "markdown",
   "metadata": {},
   "source": [
    "----"
   ]
  },
  {
   "cell_type": "markdown",
   "metadata": {},
   "source": [
    "## Question 13"
   ]
  },
  {
   "cell_type": "markdown",
   "metadata": {},
   "source": [
    "**Produce a two-dimensional image (as opposed to scatter plot) of x^2 + y^2**: Write a code to produce a two-dimensional image of the surface x^2 + y^2 in the range (xmin,xmax). To do this you need to produce a two-dimensional array containing the result of f(x,y) = x^2 + y^2. You can make the image using the matplotlib.pyplot function imshow(). Note that when using matplotlib.pyplot.imshow() you should always add the arguments interpolation='nearest' and origin='lower'. For some reason imshow by default smooths your image, and setting interpolation='nearest' turns this off so the true pixels are shown. The second argument is to set the origin of the image to the lower left hand corner of the image. Strangely, this is not the default!"
   ]
  },
  {
   "cell_type": "code",
   "execution_count": 51,
   "metadata": {
    "collapsed": false
   },
   "outputs": [],
   "source": [
    "from mpl_toolkits.mplot3d import Axes3D\n",
    "import random\n",
    "\n",
    "def fun(x, y):\n",
    "  return x ** 2 + y ** 2\n",
    "\n",
    "def surface(xmin, xmax, ymin, ymax, num_points):\n",
    "    fig = plt.figure()\n",
    "    ax = fig.add_subplot(111, projection='3d')\n",
    "    x = np.linspace(xmin, xmax, num_points)\n",
    "    y = x = np.linspace(ymin, ymax, num_points)\n",
    "    X, Y = np.meshgrid(x, y)\n",
    "    zs = np.array([fun(x,y) for x,y in zip(np.ravel(X), np.ravel(Y))])\n",
    "    Z = zs.reshape(X.shape)\n",
    "    ax.plot_surface(X, Y, Z)"
   ]
  },
  {
   "cell_type": "code",
   "execution_count": 52,
   "metadata": {
    "collapsed": false
   },
   "outputs": [
    {
     "data": {
      "image/png": "[encoded data removed]",
      "text/plain": [
       "<matplotlib.figure.Figure at 0x10b4c57d0>"
      ]
     },
     "metadata": {},
     "output_type": "display_data"
    }
   ],
   "source": [
    "surface(-10, 10, -10, 10, 100)"
   ]
  },
  {
   "cell_type": "markdown",
   "metadata": {},
   "source": [
    "----"
   ]
  },
  {
   "cell_type": "markdown",
   "metadata": {},
   "source": [
    "## Question 14"
   ]
  },
  {
   "cell_type": "markdown",
   "metadata": {},
   "source": [
    "**Import data from a .txt or .csv file and put the columns into lists or arrays**: Write a function to import data from a file (.csv or other basic text format). The data will have some delimiter between fields, e.g. ',' (comma) or '\\t' (tab character) or ' ' (whitespace). Which delimiter the data has should be a function argument. You will also need to know how many columns the data has and the filename of the dataset. \n",
    "The input should look like (for example):\n",
    "\n",
    "```\n",
    "data = read_data('mydata.txt', ncols=4, delimiter=',')\n",
    "```\n",
    "\n",
    "The output (data) should look like (for example):\n",
    "\t\n",
    "```\n",
    ">>> data[0]\n",
    "['policyID' '119736' '448094' ..., '791209' '322627'\n",
    "'398149']\n",
    ">>> data[1]\n",
    "['statecode' 'FL' 'FL' ..., 'FL' 'FL' 'FL']\n",
    ">>> data[2]\n",
    "['county' 'CLAY COUNTY' 'CLAY COUNTY' ..., 'PINELLAS COUNTY'\n",
    " 'PINELLAS COUNTY' 'PINELLAS COUNTY']\n",
    "```\n",
    "\n",
    "etc., where the above shows the first, second and third columns of some data respectively. \n"
   ]
  },
  {
   "cell_type": "code",
   "execution_count": 53,
   "metadata": {
    "collapsed": true
   },
   "outputs": [],
   "source": [
    "import csv\n",
    "\n",
    "def read_data(filename, ncols, delimiter):\n",
    "    file = open(filename)\n",
    "    reader = csv.reader(file, delimiter=delimiter)\n",
    "    # List comprehension ensures each initial empty list is\n",
    "    # different (no sharing)\n",
    "    result = [[] for _count in range(ncols)]\n",
    "    for row in reader:\n",
    "        # slice of ncols, this will support situations where\n",
    "        # the length of the row is shorter than ncols\n",
    "        columns = row[:ncols]\n",
    "        for index, item in enumerate(columns):\n",
    "            result[index].append(item)\n",
    "    file.close()\n",
    "    return result"
   ]
  },
  {
   "cell_type": "code",
   "execution_count": 54,
   "metadata": {
    "collapsed": false
   },
   "outputs": [
    {
     "data": {
      "text/plain": [
       "[['Product code',\n",
       "  'IDCJAC0001',\n",
       "  'IDCJAC0001',\n",
       "  'IDCJAC0001',\n",
       "  'IDCJAC0001',\n",
       "  'IDCJAC0001',\n",
       "  'IDCJAC0001',\n",
       "  'IDCJAC0001',\n",
       "  'IDCJAC0001',\n",
       "  'IDCJAC0001',\n",
       "  'IDCJAC0001',\n",
       "  'IDCJAC0001',\n",
       "  'IDCJAC0001',\n",
       "  'IDCJAC0001',\n",
       "  'IDCJAC0001',\n",
       "  'IDCJAC0001',\n",
       "  'IDCJAC0001',\n",
       "  'IDCJAC0001',\n",
       "  'IDCJAC0001',\n",
       "  'IDCJAC0001',\n",
       "  'IDCJAC0001',\n",
       "  'IDCJAC0001',\n",
       "  'IDCJAC0001',\n",
       "  'IDCJAC0001',\n",
       "  'IDCJAC0001',\n",
       "  'IDCJAC0001',\n",
       "  'IDCJAC0001',\n",
       "  'IDCJAC0001',\n",
       "  'IDCJAC0001',\n",
       "  'IDCJAC0001',\n",
       "  'IDCJAC0001',\n",
       "  'IDCJAC0001',\n",
       "  'IDCJAC0001',\n",
       "  'IDCJAC0001',\n",
       "  'IDCJAC0001',\n",
       "  'IDCJAC0001',\n",
       "  'IDCJAC0001',\n",
       "  'IDCJAC0001',\n",
       "  'IDCJAC0001',\n",
       "  'IDCJAC0001',\n",
       "  'IDCJAC0001',\n",
       "  'IDCJAC0001',\n",
       "  'IDCJAC0001',\n",
       "  'IDCJAC0001',\n",
       "  'IDCJAC0001',\n",
       "  'IDCJAC0001',\n",
       "  'IDCJAC0001',\n",
       "  'IDCJAC0001',\n",
       "  'IDCJAC0001',\n",
       "  'IDCJAC0001',\n",
       "  'IDCJAC0001',\n",
       "  'IDCJAC0001',\n",
       "  'IDCJAC0001',\n",
       "  'IDCJAC0001',\n",
       "  'IDCJAC0001',\n",
       "  'IDCJAC0001',\n",
       "  'IDCJAC0001',\n",
       "  'IDCJAC0001',\n",
       "  'IDCJAC0001',\n",
       "  'IDCJAC0001',\n",
       "  'IDCJAC0001',\n",
       "  'IDCJAC0001',\n",
       "  'IDCJAC0001',\n",
       "  'IDCJAC0001',\n",
       "  'IDCJAC0001',\n",
       "  'IDCJAC0001',\n",
       "  'IDCJAC0001',\n",
       "  'IDCJAC0001',\n",
       "  'IDCJAC0001',\n",
       "  'IDCJAC0001',\n",
       "  'IDCJAC0001',\n",
       "  'IDCJAC0001',\n",
       "  'IDCJAC0001',\n",
       "  'IDCJAC0001',\n",
       "  'IDCJAC0001',\n",
       "  'IDCJAC0001',\n",
       "  'IDCJAC0001',\n",
       "  'IDCJAC0001',\n",
       "  'IDCJAC0001',\n",
       "  'IDCJAC0001',\n",
       "  'IDCJAC0001',\n",
       "  'IDCJAC0001',\n",
       "  'IDCJAC0001',\n",
       "  'IDCJAC0001',\n",
       "  'IDCJAC0001',\n",
       "  'IDCJAC0001',\n",
       "  'IDCJAC0001',\n",
       "  'IDCJAC0001',\n",
       "  'IDCJAC0001',\n",
       "  'IDCJAC0001',\n",
       "  'IDCJAC0001',\n",
       "  'IDCJAC0001',\n",
       "  'IDCJAC0001',\n",
       "  'IDCJAC0001',\n",
       "  'IDCJAC0001',\n",
       "  'IDCJAC0001',\n",
       "  'IDCJAC0001',\n",
       "  'IDCJAC0001',\n",
       "  'IDCJAC0001',\n",
       "  'IDCJAC0001',\n",
       "  'IDCJAC0001',\n",
       "  'IDCJAC0001',\n",
       "  'IDCJAC0001',\n",
       "  'IDCJAC0001',\n",
       "  'IDCJAC0001',\n",
       "  'IDCJAC0001',\n",
       "  'IDCJAC0001',\n",
       "  'IDCJAC0001',\n",
       "  'IDCJAC0001',\n",
       "  'IDCJAC0001',\n",
       "  'IDCJAC0001',\n",
       "  'IDCJAC0001',\n",
       "  'IDCJAC0001',\n",
       "  'IDCJAC0001',\n",
       "  'IDCJAC0001',\n",
       "  'IDCJAC0001',\n",
       "  'IDCJAC0001',\n",
       "  'IDCJAC0001',\n",
       "  'IDCJAC0001',\n",
       "  'IDCJAC0001',\n",
       "  'IDCJAC0001',\n",
       "  'IDCJAC0001',\n",
       "  'IDCJAC0001',\n",
       "  'IDCJAC0001',\n",
       "  'IDCJAC0001',\n",
       "  'IDCJAC0001',\n",
       "  'IDCJAC0001',\n",
       "  'IDCJAC0001',\n",
       "  'IDCJAC0001',\n",
       "  'IDCJAC0001',\n",
       "  'IDCJAC0001',\n",
       "  'IDCJAC0001',\n",
       "  'IDCJAC0001',\n",
       "  'IDCJAC0001',\n",
       "  'IDCJAC0001',\n",
       "  'IDCJAC0001',\n",
       "  'IDCJAC0001',\n",
       "  'IDCJAC0001',\n",
       "  'IDCJAC0001',\n",
       "  'IDCJAC0001',\n",
       "  'IDCJAC0001',\n",
       "  'IDCJAC0001',\n",
       "  'IDCJAC0001',\n",
       "  'IDCJAC0001',\n",
       "  'IDCJAC0001',\n",
       "  'IDCJAC0001',\n",
       "  'IDCJAC0001',\n",
       "  'IDCJAC0001',\n",
       "  'IDCJAC0001',\n",
       "  'IDCJAC0001',\n",
       "  'IDCJAC0001',\n",
       "  'IDCJAC0001',\n",
       "  'IDCJAC0001',\n",
       "  'IDCJAC0001',\n",
       "  'IDCJAC0001',\n",
       "  'IDCJAC0001',\n",
       "  'IDCJAC0001'],\n",
       " ['Station Number',\n",
       "  '086071',\n",
       "  '086071',\n",
       "  '086071',\n",
       "  '086071',\n",
       "  '086071',\n",
       "  '086071',\n",
       "  '086071',\n",
       "  '086071',\n",
       "  '086071',\n",
       "  '086071',\n",
       "  '086071',\n",
       "  '086071',\n",
       "  '086071',\n",
       "  '086071',\n",
       "  '086071',\n",
       "  '086071',\n",
       "  '086071',\n",
       "  '086071',\n",
       "  '086071',\n",
       "  '086071',\n",
       "  '086071',\n",
       "  '086071',\n",
       "  '086071',\n",
       "  '086071',\n",
       "  '086071',\n",
       "  '086071',\n",
       "  '086071',\n",
       "  '086071',\n",
       "  '086071',\n",
       "  '086071',\n",
       "  '086071',\n",
       "  '086071',\n",
       "  '086071',\n",
       "  '086071',\n",
       "  '086071',\n",
       "  '086071',\n",
       "  '086071',\n",
       "  '086071',\n",
       "  '086071',\n",
       "  '086071',\n",
       "  '086071',\n",
       "  '086071',\n",
       "  '086071',\n",
       "  '086071',\n",
       "  '086071',\n",
       "  '086071',\n",
       "  '086071',\n",
       "  '086071',\n",
       "  '086071',\n",
       "  '086071',\n",
       "  '086071',\n",
       "  '086071',\n",
       "  '086071',\n",
       "  '086071',\n",
       "  '086071',\n",
       "  '086071',\n",
       "  '086071',\n",
       "  '086071',\n",
       "  '086071',\n",
       "  '086071',\n",
       "  '086071',\n",
       "  '086071',\n",
       "  '086071',\n",
       "  '086071',\n",
       "  '086071',\n",
       "  '086071',\n",
       "  '086071',\n",
       "  '086071',\n",
       "  '086071',\n",
       "  '086071',\n",
       "  '086071',\n",
       "  '086071',\n",
       "  '086071',\n",
       "  '086071',\n",
       "  '086071',\n",
       "  '086071',\n",
       "  '086071',\n",
       "  '086071',\n",
       "  '086071',\n",
       "  '086071',\n",
       "  '086071',\n",
       "  '086071',\n",
       "  '086071',\n",
       "  '086071',\n",
       "  '086071',\n",
       "  '086071',\n",
       "  '086071',\n",
       "  '086071',\n",
       "  '086071',\n",
       "  '086071',\n",
       "  '086071',\n",
       "  '086071',\n",
       "  '086071',\n",
       "  '086071',\n",
       "  '086071',\n",
       "  '086071',\n",
       "  '086071',\n",
       "  '086071',\n",
       "  '086071',\n",
       "  '086071',\n",
       "  '086071',\n",
       "  '086071',\n",
       "  '086071',\n",
       "  '086071',\n",
       "  '086071',\n",
       "  '086071',\n",
       "  '086071',\n",
       "  '086071',\n",
       "  '086071',\n",
       "  '086071',\n",
       "  '086071',\n",
       "  '086071',\n",
       "  '086071',\n",
       "  '086071',\n",
       "  '086071',\n",
       "  '086071',\n",
       "  '086071',\n",
       "  '086071',\n",
       "  '086071',\n",
       "  '086071',\n",
       "  '086071',\n",
       "  '086071',\n",
       "  '086071',\n",
       "  '086071',\n",
       "  '086071',\n",
       "  '086071',\n",
       "  '086071',\n",
       "  '086071',\n",
       "  '086071',\n",
       "  '086071',\n",
       "  '086071',\n",
       "  '086071',\n",
       "  '086071',\n",
       "  '086071',\n",
       "  '086071',\n",
       "  '086071',\n",
       "  '086071',\n",
       "  '086071',\n",
       "  '086071',\n",
       "  '086071',\n",
       "  '086071',\n",
       "  '086071',\n",
       "  '086071',\n",
       "  '086071',\n",
       "  '086071',\n",
       "  '086071',\n",
       "  '086071',\n",
       "  '086071',\n",
       "  '086071',\n",
       "  '086071',\n",
       "  '086071',\n",
       "  '086071',\n",
       "  '086071',\n",
       "  '086071',\n",
       "  '086071',\n",
       "  '086071'],\n",
       " ['Year',\n",
       "  '1855',\n",
       "  '1856',\n",
       "  '1857',\n",
       "  '1858',\n",
       "  '1859',\n",
       "  '1860',\n",
       "  '1861',\n",
       "  '1862',\n",
       "  '1863',\n",
       "  '1864',\n",
       "  '1865',\n",
       "  '1866',\n",
       "  '1867',\n",
       "  '1868',\n",
       "  '1869',\n",
       "  '1870',\n",
       "  '1871',\n",
       "  '1872',\n",
       "  '1873',\n",
       "  '1874',\n",
       "  '1875',\n",
       "  '1876',\n",
       "  '1877',\n",
       "  '1878',\n",
       "  '1879',\n",
       "  '1880',\n",
       "  '1881',\n",
       "  '1882',\n",
       "  '1883',\n",
       "  '1884',\n",
       "  '1885',\n",
       "  '1886',\n",
       "  '1887',\n",
       "  '1888',\n",
       "  '1889',\n",
       "  '1890',\n",
       "  '1891',\n",
       "  '1892',\n",
       "  '1893',\n",
       "  '1894',\n",
       "  '1895',\n",
       "  '1896',\n",
       "  '1897',\n",
       "  '1898',\n",
       "  '1899',\n",
       "  '1900',\n",
       "  '1901',\n",
       "  '1902',\n",
       "  '1903',\n",
       "  '1904',\n",
       "  '1905',\n",
       "  '1906',\n",
       "  '1907',\n",
       "  '1908',\n",
       "  '1909',\n",
       "  '1910',\n",
       "  '1911',\n",
       "  '1912',\n",
       "  '1913',\n",
       "  '1914',\n",
       "  '1915',\n",
       "  '1916',\n",
       "  '1917',\n",
       "  '1918',\n",
       "  '1919',\n",
       "  '1920',\n",
       "  '1921',\n",
       "  '1922',\n",
       "  '1923',\n",
       "  '1924',\n",
       "  '1925',\n",
       "  '1926',\n",
       "  '1927',\n",
       "  '1928',\n",
       "  '1929',\n",
       "  '1930',\n",
       "  '1931',\n",
       "  '1932',\n",
       "  '1933',\n",
       "  '1934',\n",
       "  '1935',\n",
       "  '1936',\n",
       "  '1937',\n",
       "  '1938',\n",
       "  '1939',\n",
       "  '1940',\n",
       "  '1941',\n",
       "  '1942',\n",
       "  '1943',\n",
       "  '1944',\n",
       "  '1945',\n",
       "  '1946',\n",
       "  '1947',\n",
       "  '1948',\n",
       "  '1949',\n",
       "  '1950',\n",
       "  '1951',\n",
       "  '1952',\n",
       "  '1953',\n",
       "  '1954',\n",
       "  '1955',\n",
       "  '1956',\n",
       "  '1957',\n",
       "  '1958',\n",
       "  '1959',\n",
       "  '1960',\n",
       "  '1961',\n",
       "  '1962',\n",
       "  '1963',\n",
       "  '1964',\n",
       "  '1965',\n",
       "  '1966',\n",
       "  '1967',\n",
       "  '1968',\n",
       "  '1969',\n",
       "  '1970',\n",
       "  '1971',\n",
       "  '1972',\n",
       "  '1973',\n",
       "  '1974',\n",
       "  '1975',\n",
       "  '1976',\n",
       "  '1977',\n",
       "  '1978',\n",
       "  '1979',\n",
       "  '1980',\n",
       "  '1981',\n",
       "  '1982',\n",
       "  '1983',\n",
       "  '1984',\n",
       "  '1985',\n",
       "  '1986',\n",
       "  '1987',\n",
       "  '1988',\n",
       "  '1989',\n",
       "  '1990',\n",
       "  '1991',\n",
       "  '1992',\n",
       "  '1993',\n",
       "  '1994',\n",
       "  '1995',\n",
       "  '1996',\n",
       "  '1997',\n",
       "  '1998',\n",
       "  '1999',\n",
       "  '2000',\n",
       "  '2001',\n",
       "  '2002',\n",
       "  '2003',\n",
       "  '2004',\n",
       "  '2005',\n",
       "  '2006',\n",
       "  '2007',\n",
       "  '2008',\n",
       "  '2009',\n",
       "  '2010']]"
      ]
     },
     "execution_count": 54,
     "metadata": {},
     "output_type": "execute_result"
    }
   ],
   "source": [
    "read_data('rainfall.csv', 3, ',')"
   ]
  },
  {
   "cell_type": "markdown",
   "metadata": {},
   "source": [
    "----"
   ]
  },
  {
   "cell_type": "markdown",
   "metadata": {},
   "source": [
    "## Question 15"
   ]
  },
  {
   "cell_type": "markdown",
   "metadata": {},
   "source": [
    "**Write data to file**: Write a function to save a data array to file. The function should take the filename to save to as an argument, along with an optional argument to specify the delimiter. The data should be written into the file so that each column contains a separate field of the data, and the rows contain the different values of the fields. \n",
    "\n",
    "The input should look like (for example):\n",
    "\n",
    "```\n",
    "write_data(data, 'mydata.csv', delimiter=',')\n",
    "```\n",
    "\n",
    "There will be no output, but the resulting file should look like (for example):\n",
    "\n",
    "```\n",
    "id,weight,height,width,type,comment\n",
    "12,7,3,5,mineral,copper\n",
    "56,3,1,7,food,chips\n",
    "```\n",
    "\n",
    "etc…"
   ]
  },
  {
   "cell_type": "code",
   "execution_count": 55,
   "metadata": {
    "collapsed": true
   },
   "outputs": [],
   "source": [
    "def write_data(data, filename, delimiter):\n",
    "    file = open(filename, 'w')\n",
    "    writer = csv.writer(file, delimiter=delimiter)\n",
    "    for row in data:\n",
    "        writer.writerow(row)\n",
    "    file.close()"
   ]
  },
  {
   "cell_type": "code",
   "execution_count": 56,
   "metadata": {
    "collapsed": false
   },
   "outputs": [],
   "source": [
    "test_data = read_data('rainfall.csv', 5, ',')\n",
    "write_data(test_data, 'question15.out.csv', '\\t')"
   ]
  },
  {
   "cell_type": "markdown",
   "metadata": {},
   "source": [
    "----"
   ]
  },
  {
   "cell_type": "markdown",
   "metadata": {},
   "source": [
    "## Question 16"
   ]
  },
  {
   "cell_type": "markdown",
   "metadata": {},
   "source": [
    "**Join csv files**: Write a function to join two csv (or txt) files on a given column they have in common, and write the result to a new file, with the first column being the joining column. This function should take as its input a list of filenames corresponding to the datasets to join, a list containing the number of columns in each file, and list containing the column number of the common column in each file. It should also contain optional arguments for the filename to save the joined data to, a list of delimiters for the input files, and a header name, which will be the name of the column to be joined on. In the case of a header id existing, the code should make sure the column headers are the first entry in the new data file.\n",
    "\n",
    "The input should look like (for example):\n",
    "\n",
    "```\n",
    "# (input data, number of cols, colnumber to join on, header id)\n",
    "# (savename and delimiters left to default)\n",
    "join_csvs(['data1.csv', 'data2.csv'], [4,3], [0,0], header='id')\n",
    "```\n",
    "\n",
    "Which for input files which look like:\n",
    "\n",
    "```\n",
    "id,type,comment\n",
    "12,mineral,copper\n",
    "6,food,pizza\n",
    "56,food,chips\n",
    "5,mineral,gold\n",
    "12,animal,cat\n",
    "```\n",
    "\n",
    "and:\n",
    "\n",
    "```\n",
    "id,weight,height,width\n",
    "12,4,7,2\n",
    "6,8,3,2\n",
    "56,3,23,7\n",
    "5,6,32,4\n",
    "12,7,3,5\n",
    "```\n",
    "\n",
    "should produce a new file which looks like:\n",
    "\n",
    "```\n",
    "id,weight,height,width,type,comment\n",
    "12,7,3,5,animal,cat\n",
    "56,3,23,7,food,chips\n",
    "5,6,32,4,mineral,gold\n",
    "6,8,3,2,food,pizza\n",
    "```\n",
    "\n",
    "**Note** The solution below diverges from the above question in a couple of ways.\n",
    "\n",
    "1. The question does not make it clear what to do if multiple rows in an input file have the same header. We assume this should never happen and modify the input files to adhere to this assumption. Note in the quesiton above the the first file has two rows which have an \"id\" of 12.\n",
    "2. Our solution below makes no assumptions about the number of columns in the input files, and is therefore somewhat more general than what was specified in the problem.\n",
    "3. We output the values from the first file first in the output, then the values from the second file."
   ]
  },
  {
   "cell_type": "code",
   "execution_count": 60,
   "metadata": {
    "collapsed": true
   },
   "outputs": [],
   "source": [
    "import csv\n",
    "\n",
    "def other_fieldnames(header, fieldnames):\n",
    "    return [f for f in fieldnames if f != header]\n",
    "\n",
    "def other_values(header, values, fieldnames):\n",
    "    return [values[key] for key in fieldnames if key != header]\n",
    "\n",
    "# This solution assumes both input CSV files\n",
    "# have a header.\n",
    "#\n",
    "# This solution also illustrates the use of the \"with\"\n",
    "# context manager with file handling\n",
    "def join_csvs(filename1, filename2, filename_out, header):\n",
    "    with open(filename1) as file1:\n",
    "        reader1 = csv.DictReader(file1)\n",
    "        file1_fieldnames = reader1.fieldnames\n",
    "        file1_map = {}\n",
    "        for row in reader1:\n",
    "            # assume the header is valid for this file\n",
    "            key = row[header]\n",
    "            # collect all the values which are not equal to the key\n",
    "            values = other_values(header, row, file1_fieldnames)\n",
    "            file1_map[key] = values\n",
    "    with open(filename_out, \"w\") as file_out, \\\n",
    "         open(filename2) as file2:\n",
    "        writer = csv.writer(file_out)\n",
    "        reader2 = csv.DictReader(file2)\n",
    "        file2_fieldnames = reader2.fieldnames\n",
    "        out_header = [header] + other_fieldnames(header, file1_fieldnames) + \\\n",
    "                             other_fieldnames(header, file2_fieldnames)\n",
    "        writer.writerow(out_header)\n",
    "        for row in reader2:\n",
    "            key = row[header]      \n",
    "            if key in file1_map:\n",
    "                file1_values = file1_map[key]\n",
    "                file2_values = other_values(header, row, file2_fieldnames)\n",
    "                out_row = [key] + file1_values + file2_values\n",
    "                writer.writerow(out_row)\n",
    "            \n",
    "        \n",
    "                "
   ]
  },
  {
   "cell_type": "code",
   "execution_count": 61,
   "metadata": {
    "collapsed": false
   },
   "outputs": [],
   "source": [
    "join_csvs(\"question16.in.1.csv\", \"question16.in.2.csv\", \"question16.out.csv\", \"id\")"
   ]
  },
  {
   "cell_type": "code",
   "execution_count": 62,
   "metadata": {
    "collapsed": false
   },
   "outputs": [
    {
     "name": "stdout",
     "output_type": "stream",
     "text": [
      "id,type,comment,weight,height,width\r",
      "\r\n",
      "12,mineral,copper,4,7,2\r",
      "\r\n",
      "6,food,pizza,8,3,2\r",
      "\r\n",
      "56,food,chips,3,23,7\r",
      "\r\n",
      "5,mineral,gold,6,32,4\r",
      "\r\n"
     ]
    }
   ],
   "source": [
    "%cat question16.out.csv"
   ]
  },
  {
   "cell_type": "markdown",
   "metadata": {},
   "source": [
    "----"
   ]
  },
  {
   "cell_type": "markdown",
   "metadata": {},
   "source": [
    "## Queston 17"
   ]
  },
  {
   "cell_type": "markdown",
   "metadata": {},
   "source": [
    "**A function to plot the histogram of a column of data from a datafile**: Write a function to plot the histogram of a column of data from a datafile. The data doesn't need to be numerical. The function should take as its input the filename of the input data, the filename to save the histogram to, the number of columns in the datafile, and the column to make the histogram of. The function should also have a boolean header as an optional argument. If this is True, the first line of the datafile will be skipped. \n",
    "\n",
    "The input should look like (for example):\n",
    "\n",
    "```\n",
    "hist_plot(filename, savename, ncol, histcol, header=True)\n",
    "```"
   ]
  },
  {
   "cell_type": "code",
   "execution_count": 63,
   "metadata": {
    "collapsed": false
   },
   "outputs": [],
   "source": [
    "import csv\n",
    "\n",
    "# Assume that the input data has a header\n",
    "def hist_plot(filename, histcol):\n",
    "    histogram = {}\n",
    "    file = open(filename)\n",
    "    reader = csv.DictReader(file)\n",
    "    for row in reader:\n",
    "        val = row[histcol]\n",
    "        if val in histogram:\n",
    "            histogram[val] += 1\n",
    "        else:\n",
    "            histogram[val] = 1\n",
    "    file.close()\n",
    "    counts = histogram.values()\n",
    "    indices = np.arange(len(histogram))\n",
    "    plt.bar(indices, sorted(counts))"
   ]
  },
  {
   "cell_type": "code",
   "execution_count": 64,
   "metadata": {
    "collapsed": false
   },
   "outputs": [
    {
     "data": {
      "image/png": "[encoded data removed]",
      "text/plain": [
       "<matplotlib.figure.Figure at 0x10b472e50>"
      ]
     },
     "metadata": {},
     "output_type": "display_data"
    }
   ],
   "source": [
    "# histogram of the top 100 most frequent words in the novel \"Moby Dick\"\n",
    "h = hist_plot('moby_dick_top_100.csv', 'word')"
   ]
  },
  {
   "cell_type": "markdown",
   "metadata": {},
   "source": [
    "----"
   ]
  },
  {
   "cell_type": "markdown",
   "metadata": {},
   "source": [
    "## Question 18"
   ]
  },
  {
   "cell_type": "markdown",
   "metadata": {},
   "source": [
    "A function to count the number of instances of a string or number in a file: Write a function to count the number of instances of a string or number in a file, either from one column in the file, or from the whole file. The function should return the number of whole word/whole number instances, and the number of instances including within words/numbers. It should also return a list of locations, giving the column and row number of each occurrence of the the word/number for both types of searches.\n",
    "\n",
    "For an input that looks like (for example):\n",
    "\n",
    "```\n",
    ">>> n_instances_whole, n_instances_all, loc_whole, loc_all = \\\n",
    "... count_instances_simple('FL_insurance_sample.csv', 'Coun', 18, header=True)\n",
    "```\n",
    "\n",
    "The output (data) should look like (for example):\n",
    "\n",
    "```\n",
    ">>> print n_instances_whole, n_instances_all\n",
    "0 36632\n",
    "```\n",
    "\n",
    "And for an input that looks like (for example):\n",
    "\n",
    "```\n",
    ">>> n_instances_whole, n_instances_all, loc_whole, loc_all = \\\n",
    "... count_instances_simple('FL_insurance_sample.csv', 'County', 18, header=True)\n",
    "```\n",
    "\n",
    "The output (data) should look like (for example):\n",
    "\n",
    "```\n",
    ">>> print n_instances_whole, n_instances_all\n",
    "36632 36632\n",
    "```\n",
    "\n",
    "You will need to use regular expressions to do this (or at least you should!). A good place to practice using a regular expression is http://www.regexr.com/. Use this site to make sure your regex does what you want before making it in your code. To denote a regular expression in Python, you preface a string with an r, however, you can't include a variable in this. So, in order to construct a search term containing a variable you need to add it to the regular expression:\n",
    "\n",
    "```\n",
    "# Start the regex:\n",
    "my_re = r'\\b'\n",
    "# Add the variable to the regex:\n",
    "my_re += '('+st+')'\n",
    "# Finish the regex:\n",
    "my_re += r'\\b'\n",
    "```\n",
    "\n",
    "Python will not interpret the '\\b' term correctly unless you specify it is a regular\n",
    "expression by prefacing it with an r."
   ]
  },
  {
   "cell_type": "markdown",
   "metadata": {},
   "source": [
    "Left as an exercise for the reader"
   ]
  },
  {
   "cell_type": "markdown",
   "metadata": {},
   "source": [
    "----"
   ]
  },
  {
   "cell_type": "markdown",
   "metadata": {},
   "source": [
    "## Question 19"
   ]
  },
  {
   "cell_type": "markdown",
   "metadata": {},
   "source": [
    "**A function to integrate a e-bx from 0 to infinity**: Write a function to perform the integral using scipy.integrate.quad() or mpmath.quad(). The function should take as its arguments the parameters a and b, and should return the result of the integral. "
   ]
  },
  {
   "cell_type": "code",
   "execution_count": 1,
   "metadata": {
    "collapsed": true
   },
   "outputs": [],
   "source": [
    "from scipy import integrate\n",
    "import numpy as np\n",
    "\n",
    "# Note sure what the parameter a is supposed to be in the question\n",
    "def integral(b):\n",
    "    func = lambda x: np.exp(-b * x)\n",
    "    return integrate.quad(func, 0, np.inf)"
   ]
  },
  {
   "cell_type": "code",
   "execution_count": 2,
   "metadata": {
    "collapsed": false
   },
   "outputs": [
    {
     "data": {
      "text/plain": [
       "(0.5, 7.735031683797485e-11)"
      ]
     },
     "execution_count": 2,
     "metadata": {},
     "output_type": "execute_result"
    }
   ],
   "source": [
    "integral(2)"
   ]
  },
  {
   "cell_type": "markdown",
   "metadata": {},
   "source": [
    "----"
   ]
  },
  {
   "cell_type": "markdown",
   "metadata": {},
   "source": [
    "## Question 20"
   ]
  },
  {
   "cell_type": "markdown",
   "metadata": {},
   "source": [
    "**A function to parse arguments from the command line**: Write a function to parse arguments from the command line. Try adding two arguments - one which has a default and one which is required. You should also try different datatypes, like a string and a float. To do this you will need to use the module argparse. \n",
    "If you make a script called 'my_script.py' which contains the function 'parse_arguments()', and the following lines:\n",
    "    \n",
    "```\n",
    "arguments = parse_arguments()\n",
    "print arguments.required_num_arg,\n",
    "arguments.optional_str_arg\n",
    "```\n",
    "\n",
    "Then you would call it as either:\n",
    "\n",
    "```\n",
    "$ python my_script.py --required_num_arg 10.\n",
    "```\n",
    "\n",
    "which will give:\n",
    "    \n",
    "```\n",
    "10.0 this_is_the_default_value\n",
    "```\n",
    "\n",
    "Or you would call it as\n",
    "\n",
    "```\n",
    "$ python my_script.py --required_num_arg 10. --optional_str_arg Hello\n",
    "```\n",
    "\n",
    "Which will give:\n",
    "    \n",
    "```\n",
    "10.0 Hello\n",
    "```\n"
   ]
  },
  {
   "cell_type": "code",
   "execution_count": 4,
   "metadata": {
    "collapsed": false
   },
   "outputs": [
    {
     "name": "stdout",
     "output_type": "stream",
     "text": [
      "from argparse import ArgumentParser\r\n",
      "\r\n",
      "def main():\r\n",
      "    \"\"\"Example function for parsing command line arguments\"\"\"\r\n",
      "    parser = ArgumentParser(description=\"Solution to question 20 from the practice problems\")\r\n",
      "    parser.add_argument(\r\n",
      "        '--required_num_arg', type=float, required=True,\r\n",
      "        help='A numerical argument in floating point format') \r\n",
      "    parser.add_argument(\r\n",
      "        '--optional_str_arg', type=str, required=False,\r\n",
      "        default='this_is_the_default_value',\r\n",
      "        help='A numerical argument in floating point format') \r\n",
      "    args = parser.parse_args()\r\n",
      "    print('{} {}'.format(args.required_num_arg, args.optional_str_arg))\r\n",
      "\r\n",
      "if __name__ == '__main__':\r\n",
      "    main()\r\n"
     ]
    }
   ],
   "source": [
    "%cat question20.solution.py"
   ]
  },
  {
   "cell_type": "code",
   "execution_count": 8,
   "metadata": {
    "collapsed": false
   },
   "outputs": [
    {
     "name": "stdout",
     "output_type": "stream",
     "text": [
      "10.0 this_is_the_default_value\r\n"
     ]
    }
   ],
   "source": [
    "!python question20.solution.py --required_num_arg 10."
   ]
  },
  {
   "cell_type": "code",
   "execution_count": 9,
   "metadata": {
    "collapsed": false
   },
   "outputs": [
    {
     "name": "stdout",
     "output_type": "stream",
     "text": [
      "10.0 Hello\r\n"
     ]
    }
   ],
   "source": [
    "!python question20.solution.py --required_num_arg 10. --optional_str_arg Hello"
   ]
  },
  {
   "cell_type": "code",
   "execution_count": null,
   "metadata": {
    "collapsed": true
   },
   "outputs": [],
   "source": []
  }
 ],
 "metadata": {
  "kernelspec": {
   "display_name": "Python 2",
   "language": "python",
   "name": "python2"
  },
  "language_info": {
   "codemirror_mode": {
    "name": "ipython",
    "version": 2
   },
   "file_extension": ".py",
   "mimetype": "text/x-python",
   "name": "python",
   "nbconvert_exporter": "python",
   "pygments_lexer": "ipython2",
   "version": "2.7.9"
  }
 },
 "nbformat": 4,
 "nbformat_minor": 0
}
